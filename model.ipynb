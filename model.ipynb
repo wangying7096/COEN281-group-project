{
 "cells": [
  {
   "cell_type": "code",
   "execution_count": 2,
   "metadata": {},
   "outputs": [
    {
     "name": "stdout",
     "output_type": "stream",
     "text": [
      "        FL_DATE  OP_CARRIER  ORIGIN  DEST  DEP_DELAY  TAXI_OUT  ARR_DELAY  \\\n",
      "0             0          13     104    85       -5.0      15.0      -23.0   \n",
      "1             0          13     173   288       -8.0      11.0      -24.0   \n",
      "2             0          13     299    85       -5.0      15.0      -13.0   \n",
      "3             0          13     274   230        6.0      19.0       -2.0   \n",
      "4             0          13     230    12       20.0      13.0       14.0   \n",
      "...         ...         ...     ...   ...        ...       ...        ...   \n",
      "570113       30           4      18   156       -8.0       8.0      -24.0   \n",
      "570114       30           4     156    18       -6.0      10.0      -23.0   \n",
      "570115       30           4     293   217       -8.0      22.0       -4.0   \n",
      "570116       30           4      18   312       -5.0      10.0      -14.0   \n",
      "570117       30           4     312    18       -5.0      11.0      -26.0   \n",
      "\n",
      "        CANCELLED  ACTUAL_ELAPSED_TIME  DISTANCE  \n",
      "0             0.0                250.0    1605.0  \n",
      "1             0.0                 83.0     414.0  \n",
      "2             0.0                126.0     846.0  \n",
      "3             0.0                182.0    1120.0  \n",
      "4             0.0                106.0     723.0  \n",
      "...           ...                  ...       ...  \n",
      "570113        0.0                 77.0     432.0  \n",
      "570114        0.0                 81.0     432.0  \n",
      "570115        0.0                231.0    1575.0  \n",
      "570116        0.0                120.0     794.0  \n",
      "570117        0.0                144.0     794.0  \n",
      "\n",
      "[551022 rows x 10 columns]\n",
      "0         10.0\n",
      "1          7.0\n",
      "2          5.0\n",
      "3          6.0\n",
      "4         10.0\n",
      "          ... \n",
      "570113     3.0\n",
      "570114     9.0\n",
      "570115    16.0\n",
      "570116     4.0\n",
      "570117     8.0\n",
      "Name: TAXI_IN, Length: 551022, dtype: float64\n"
     ]
    }
   ],
   "source": [
    "import pandas as pd\n",
    "from sklearn.model_selection import train_test_split\n",
    "from sklearn.preprocessing import PolynomialFeatures\n",
    "from sklearn.linear_model import LinearRegression\n",
    "from sklearn.ensemble import RandomForestRegressor\n",
    "# read in the train and test data:\n",
    "df_data = pd.read_pickle(\"./pure_data.pkl\")\n",
    "df_label = pd.read_pickle(\"./label.pkl\")\n",
    "print(df_data)\n",
    "print(df_label)\n",
    "train_data, test_data, train_label, test_label = train_test_split(\n",
    "    df_data, df_label, test_size=0.2, random_state=42)"
   ]
  },
  {
   "cell_type": "code",
   "execution_count": 3,
   "metadata": {},
   "outputs": [],
   "source": [
    "# for i in range(train_data.shape[0]):\n",
    "#     for j in range(test_data.shape[0]):\n",
    "#         if train_data.iloc[i].equals(test_data.iloc[j]):\n",
    "#             print(\"there is same one\")\n",
    "#             print(i, j)\n",
    "#             break;\n",
    "# else:\n",
    "#     print(\"we don't have test case in train data\")"
   ]
  },
  {
   "cell_type": "code",
   "execution_count": null,
   "metadata": {},
   "outputs": [],
   "source": [
    "##quadratic\n",
    "for i in range(4, 6):\n",
    "    poly = PolynomialFeatures(degree=i)\n",
    "    train_data_ = poly.fit_transform(train_data)\n",
    "    test_data_ = poly.fit_transform(test_data)\n",
    "    linear = LinearRegression()\n",
    "    linear.fit(train_data_, train_label)\n",
    "    print(linear.score(test_data_, test_label), i)"
   ]
  },
  {
   "cell_type": "code",
   "execution_count": null,
   "metadata": {},
   "outputs": [],
   "source": []
  },
  {
   "cell_type": "code",
   "execution_count": null,
   "metadata": {},
   "outputs": [],
   "source": []
  }
 ],
 "metadata": {
  "kernelspec": {
   "display_name": "Python 3",
   "language": "python",
   "name": "python3"
  },
  "language_info": {
   "codemirror_mode": {
    "name": "ipython",
    "version": 3
   },
   "file_extension": ".py",
   "mimetype": "text/x-python",
   "name": "python",
   "nbconvert_exporter": "python",
   "pygments_lexer": "ipython3",
   "version": "3.7.2"
  }
 },
 "nbformat": 4,
 "nbformat_minor": 4
}
